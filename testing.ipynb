{
 "cells": [
  {
   "metadata": {
    "ExecuteTime": {
     "end_time": "2025-03-18T08:59:22.444362Z",
     "start_time": "2025-03-18T08:59:19.629040Z"
    }
   },
   "cell_type": "code",
   "source": [
    "## LOAD MODEL\n",
    "from langchain_ollama import ChatOllama\n",
    "llm = ChatOllama(model=\"llama3.2:latest\", temperature=0)\n",
    "\n",
    "## TEST MESSAGING\n",
    "from langchain_core.messages import HumanMessage\n",
    "llm.invoke([HumanMessage(content=\"Hi! I'm Bob\")])\n"
   ],
   "id": "21a3baf5dff3e454",
   "outputs": [
    {
     "data": {
      "text/plain": [
       "AIMessage(content=\"Hello Bob! It's nice to meet you. Is there something I can help you with, or would you like to chat?\", additional_kwargs={}, response_metadata={'model': 'llama3.2:latest', 'created_at': '2025-03-18T08:59:22.4405294Z', 'done': True, 'done_reason': 'stop', 'total_duration': 2766438200, 'load_duration': 30839100, 'prompt_eval_count': 30, 'prompt_eval_duration': 84000000, 'eval_count': 27, 'eval_duration': 2649000000, 'message': Message(role='assistant', content='', images=None, tool_calls=None)}, id='run-cf2d5354-84ad-4ff1-8faa-2e2307a1ca65-0', usage_metadata={'input_tokens': 30, 'output_tokens': 27, 'total_tokens': 57})"
      ]
     },
     "execution_count": 32,
     "metadata": {},
     "output_type": "execute_result"
    }
   ],
   "execution_count": 32
  },
  {
   "metadata": {
    "ExecuteTime": {
     "end_time": "2025-03-18T08:59:22.450263Z",
     "start_time": "2025-03-18T08:59:22.446371Z"
    }
   },
   "cell_type": "code",
   "source": [
    "## SYSTEM PROMPT\n",
    "#\n",
    "# from langchain_core.prompts import ChatPromptTemplate, MessagesPlaceholder\n",
    "#\n",
    "# prompt_template = ChatPromptTemplate.from_messages(\n",
    "#     [\n",
    "#         (\n",
    "#             \"system\",\n",
    "#             \"You are a travel planner. Ask user about travel preferences and use this information to propose a travel plan.\",\n",
    "#         ),\n",
    "#         MessagesPlaceholder(variable_name=\"messages\"),\n",
    "#     ]\n",
    "# )"
   ],
   "id": "1e240cf12c95f3d7",
   "outputs": [],
   "execution_count": 33
  },
  {
   "metadata": {
    "ExecuteTime": {
     "end_time": "2025-03-18T08:59:22.490020Z",
     "start_time": "2025-03-18T08:59:22.484508Z"
    }
   },
   "cell_type": "code",
   "source": [
    "## MESSAGE TRIMMING - how much past messages are remembered\n",
    "\n",
    "from langchain_core.messages import AIMessage, SystemMessage, trim_messages\n",
    "\n",
    "trimmer = trim_messages(\n",
    "    max_tokens=65,\n",
    "    strategy=\"last\",\n",
    "    token_counter=llm,\n",
    "    include_system=True,\n",
    "    allow_partial=False,\n",
    "    start_on=\"human\",\n",
    ")\n"
   ],
   "id": "b7a4c9aad43800ba",
   "outputs": [],
   "execution_count": 34
  },
  {
   "metadata": {
    "ExecuteTime": {
     "end_time": "2025-03-18T09:30:01.543054Z",
     "start_time": "2025-03-18T09:30:01.527216Z"
    }
   },
   "cell_type": "code",
   "source": [
    "## PERSISTENCE\n",
    "from langgraph.checkpoint.memory import MemorySaver\n",
    "from langgraph.graph import START, END,  MessagesState, StateGraph\n",
    "\n",
    "from typing import Sequence\n",
    "from langchain_core.messages import BaseMessage\n",
    "from langgraph.graph.message import add_messages\n",
    "from typing_extensions import Annotated, TypedDict\n",
    "\n",
    "from typing_extensions import Literal\n",
    "# Schema for structured output\n",
    "from pydantic import BaseModel, Field\n",
    "\n",
    "# DEFINE CLASS INPUTS\n",
    "class State(TypedDict):\n",
    "    input : str\n",
    "    activity_pref: str\n",
    "    climate_pref: str\n",
    "    companions_pref: str\n",
    "    recommendation: str\n",
    "    output: str\n",
    "\n",
    "#Schema for structured output to use as preference schema\n",
    "class Preference_Schema(BaseModel):\n",
    "    # everything: Literal[\"Yes\",\"No\"] = Field(description=\"This is always Yes\")\n",
    "    activity_pref : str = Field(description=\"Generalized activity preferences\")\n",
    "    climate_pref : str = Field(description=\"The climate preference. Must be one of cold, warm or humid.\")\n",
    "    companions_pref : str = Field(description=\"Type of companionship preference. Must be one of solo, friends, family.\")\n",
    "    activity_pair: str = Field(description=\"Sentence of the form: the user {preference} to do {activity} in {climate} with {budget} with {companionship}\")\n",
    "\n",
    "\n",
    "\n",
    "# Augment the LLM with schema for structured output\n",
    "pref_getter = llm.with_structured_output(Preference_Schema)\n",
    "\n",
    "def pref_model(state: State):\n",
    "    \"\"\"Fill in user preferences from input\"\"\"\n",
    "    preferences = pref_getter.invoke(\n",
    "        [\n",
    "            SystemMessage(content=\"Extract from the input vacation preferences from the user. Ask clarification questions when some things are unclear\"),\n",
    "            # SystemMessage(content=\"If the user did not mention any activity preferences, output MISSING for activity_pref.\"),\n",
    "            # SystemMessage(content=\"If the user did not mention any climate preferences, output MISSING for climate_pref.\"),\n",
    "            # SystemMessage(content=\"If the user did not mention any companionship preferences, output MISSING for companions_pref.\"),\n",
    "            HumanMessage(content=state[\"input\"])\n",
    "         ]\n",
    "    )\n",
    "    print(preferences)\n",
    "    state[\"activity_pref\"] = preferences.activity_pref\n",
    "    state[\"climate_pref\"] = preferences.climate_pref\n",
    "    state[\"companions_pref\"] = preferences.companions_pref\n",
    "    return state\n",
    "\n",
    "def vacation_model(state: State):\n",
    "    \"\"\"Use user preferences to model a vacation\"\"\"\n",
    "    recommendation = llm.invoke(\n",
    "        [\n",
    "            SystemMessage(content=\"Use the following information to recommend the perfect vacation for the user\"),\n",
    "            HumanMessage(content=f\"I like the following activities: {state[\"activity_pref\"]}\"),\n",
    "            HumanMessage(content=f\"I like the following climate to have their vacation in: {state[\"climate_pref\"]}\"),\n",
    "            HumanMessage(content=f\"I have the following companionship preferences: {state[\"companions_pref\"]}\"),\n",
    "        ]\n",
    "    )\n",
    "    state[\"output\"] = recommendation.content\n",
    "    return state\n",
    "\n",
    "\n",
    "# Define the function that calls the model\n",
    "# def call_model(state: State):\n",
    "#     trimmed_messages = trimmer.invoke(state[\"messages\"])\n",
    "#     prompt = prompt_template.invoke(\n",
    "#         {\"messages\": trimmed_messages}\n",
    "#     )\n",
    "#     response = llm.invoke(prompt)\n",
    "#     return {\"messages\": [response]}\n",
    "\n",
    "# Define a new graph\n",
    "workflow = StateGraph(state_schema=State)\n",
    "\n",
    "# Define the nodes and edges\n",
    "workflow.add_node(\"prefbot\", pref_model)\n",
    "workflow.add_node(\"vacationbot\", vacation_model)\n",
    "\n",
    "workflow.add_edge(START, \"prefbot\")\n",
    "workflow.add_edge(\"prefbot\", \"vacationbot\")\n",
    "workflow.add_edge(\"vacationbot\", END)\n",
    "\n",
    "\n",
    "# Add memory\n",
    "# memory = MemorySaver()\n",
    "# app = workflow.compile(checkpointer=memory)\n",
    "\n",
    "\n",
    "\n"
   ],
   "id": "286d585fec6cb87",
   "outputs": [
    {
     "data": {
      "text/plain": [
       "<langgraph.graph.state.StateGraph at 0x20073a82f30>"
      ]
     },
     "execution_count": 48,
     "metadata": {},
     "output_type": "execute_result"
    }
   ],
   "execution_count": 48
  },
  {
   "metadata": {
    "ExecuteTime": {
     "end_time": "2025-03-18T09:30:03.513086Z",
     "start_time": "2025-03-18T09:30:03.507883Z"
    }
   },
   "cell_type": "code",
   "source": [
    "# compile the graph\n",
    "\n",
    "# graph = workflow.compile(checkpointer=memory)\n",
    "\n",
    "graph = workflow.compile()\n"
   ],
   "id": "32d293f09df6b320",
   "outputs": [],
   "execution_count": 50
  },
  {
   "metadata": {
    "ExecuteTime": {
     "end_time": "2025-03-18T09:30:04.265299Z",
     "start_time": "2025-03-18T09:30:04.189015Z"
    }
   },
   "cell_type": "code",
   "source": [
    "from IPython.display import Image, display\n",
    "\n",
    "try:\n",
    "    display(Image(graph.get_graph().draw_mermaid_png()))\n",
    "except Exception:\n",
    "    # This requires some extra dependencies and is optional\n",
    "    pass"
   ],
   "id": "b196021706f8c7f9",
   "outputs": [
    {
     "data": {
      "image/png": "[encoded data removed]",
      "text/plain": [
       "<IPython.core.display.Image object>"
      ]
     },
     "metadata": {},
     "output_type": "display_data"
    }
   ],
   "execution_count": 51
  },
  {
   "metadata": {
    "ExecuteTime": {
     "end_time": "2025-03-18T09:30:41.587579Z",
     "start_time": "2025-03-18T09:30:05.116903Z"
    }
   },
   "cell_type": "code",
   "source": [
    "### TESTING\n",
    "\n",
    "state = graph.invoke({ \"input\":\"My last vacation was to the alps, where I went over the Mont Blanc. It was so much fun! I also went shopping but I hated that.\"})\n",
    "print(state[\"output\"])\n"
   ],
   "id": "eacc8bf1839b1bb7",
   "outputs": [
    {
     "name": "stdout",
     "output_type": "stream",
     "text": [
      "activity_pref='shopping' climate_pref='cold' companions_pref='solo' activity_pair='the user hates to do shopping in cold with no companionship'\n",
      "Based on your preferences, I'd like to recommend a unique vacation destination that combines shopping and a cold climate.\n",
      "\n",
      "**Destination:** Reykjavik, Iceland\n",
      "\n",
      "**Why:**\n",
      "\n",
      "1. **Shopping:** Reykjavik is known for its vibrant shopping scene, with a variety of boutiques, art galleries, and souvenir shops. You can find everything from traditional Icelandic handicrafts to modern fashion.\n",
      "2. **Cold Climate:** Iceland is famous for its chilly winters, making it an ideal destination for those who enjoy cold weather. The average temperature in January, the coldest month, is around 32°F (0°C).\n",
      "3. **Solo Traveler:** Reykjavik is a great city to explore solo, with plenty of museums, galleries, and cultural attractions to keep you engaged. You can also take guided tours or join group activities to meet fellow travelers.\n",
      "\n",
      "**Additional Recommendations:**\n",
      "\n",
      "* Visit the Laugavegur shopping street, which offers a range of unique boutiques and souvenir shops.\n",
      "* Explore the Reykjavik Art Museum, which features an impressive collection of Icelandic art.\n",
      "* Take a stroll through the beautiful Harpa concert hall and its surrounding gardens.\n",
      "* Consider taking a guided tour to explore the nearby Golden Circle, including Þingvellir National Park and Geysir geothermal area.\n",
      "\n",
      "**Accommodation:**\n",
      "\n",
      "Reykjavik has plenty of cozy hotels and guesthouses that cater specifically to solo travelers. Some popular options include:\n",
      "\n",
      "* Hotel Reykjavik 101\n",
      "* Reykjavik Hostel\n",
      "* Hotel Borg\n",
      "\n",
      "**Getting There:**\n",
      "\n",
      "Reykjavik is easily accessible by air, with direct flights from many major cities around the world.\n",
      "\n",
      "I hope you enjoy your trip to Reykjavik!\n"
     ]
    }
   ],
   "execution_count": 52
  },
  {
   "metadata": {
    "ExecuteTime": {
     "end_time": "2025-03-17T15:12:54.396970Z",
     "start_time": "2025-03-17T15:12:54.348336Z"
    }
   },
   "cell_type": "code",
   "source": [
    "### TEST EXAMPLE\n",
    "\n",
    "# Add config to tell different chats apart\n",
    "config = {\"configurable\": {\"thread_id\": \"abc123\"}}\n",
    "\n",
    "query = \"Can you recommend me a trip?\"\n",
    "language = \"English\"\n",
    "\n",
    "messages = [HumanMessage(content='I like beaches, adventure and sunbathing')]\n",
    "\n",
    "\n",
    "input_messages = messages + [HumanMessage(query)]\n",
    "output = app.stream(\n",
    "    {\"messages\": input_messages, \"language\": language},\n",
    "    config,\n",
    "    stream_mode=\"values\"\n",
    ")\n",
    "\n",
    "for op in output:\n",
    "    op[\"messages\"][-1].pretty_print()  # output contains all messages in state\n",
    "\n",
    "# query = \"What is my name?\"\n",
    "#\n",
    "# input_messages = [HumanMessage(query)]\n",
    "# output = app.invoke({\"messages\": input_messages}, config)\n",
    "# output[\"messages\"][-1].pretty_print()"
   ],
   "id": "93b6c2d3d68265ca",
   "outputs": [
    {
     "ename": "NameError",
     "evalue": "name 'app' is not defined",
     "output_type": "error",
     "traceback": [
      "\u001B[1;31m---------------------------------------------------------------------------\u001B[0m",
      "\u001B[1;31mNameError\u001B[0m                                 Traceback (most recent call last)",
      "Cell \u001B[1;32mIn[16], line 13\u001B[0m\n\u001B[0;32m      9\u001B[0m messages \u001B[38;5;241m=\u001B[39m [HumanMessage(content\u001B[38;5;241m=\u001B[39m\u001B[38;5;124m'\u001B[39m\u001B[38;5;124mI like beaches, adventure and sunbathing\u001B[39m\u001B[38;5;124m'\u001B[39m)]\n\u001B[0;32m     12\u001B[0m input_messages \u001B[38;5;241m=\u001B[39m messages \u001B[38;5;241m+\u001B[39m [HumanMessage(query)]\n\u001B[1;32m---> 13\u001B[0m output \u001B[38;5;241m=\u001B[39m app\u001B[38;5;241m.\u001B[39mstream(\n\u001B[0;32m     14\u001B[0m     {\u001B[38;5;124m\"\u001B[39m\u001B[38;5;124mmessages\u001B[39m\u001B[38;5;124m\"\u001B[39m: input_messages, \u001B[38;5;124m\"\u001B[39m\u001B[38;5;124mlanguage\u001B[39m\u001B[38;5;124m\"\u001B[39m: language},\n\u001B[0;32m     15\u001B[0m     config,\n\u001B[0;32m     16\u001B[0m     stream_mode\u001B[38;5;241m=\u001B[39m\u001B[38;5;124m\"\u001B[39m\u001B[38;5;124mvalues\u001B[39m\u001B[38;5;124m\"\u001B[39m\n\u001B[0;32m     17\u001B[0m )\n\u001B[0;32m     19\u001B[0m \u001B[38;5;28;01mfor\u001B[39;00m op \u001B[38;5;129;01min\u001B[39;00m output:\n\u001B[0;32m     20\u001B[0m     op[\u001B[38;5;124m\"\u001B[39m\u001B[38;5;124mmessages\u001B[39m\u001B[38;5;124m\"\u001B[39m][\u001B[38;5;241m-\u001B[39m\u001B[38;5;241m1\u001B[39m]\u001B[38;5;241m.\u001B[39mpretty_print()\n",
      "\u001B[1;31mNameError\u001B[0m: name 'app' is not defined"
     ]
    }
   ],
   "execution_count": 16
  },
  {
   "metadata": {},
   "cell_type": "code",
   "outputs": [],
   "execution_count": null,
   "source": "",
   "id": "2849dbc977cd4187"
  }
 ],
 "metadata": {
  "kernelspec": {
   "name": "python3",
   "language": "python",
   "display_name": "Python 3 (ipykernel)"
  }
 },
 "nbformat": 5,
 "nbformat_minor": 9
}
