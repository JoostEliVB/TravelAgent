{
 "cells": [
  {
   "metadata": {
    "ExecuteTime": {
     "end_time": "2025-03-09T16:04:30.733071Z",
     "start_time": "2025-03-09T16:04:07.514614Z"
    }
   },
   "cell_type": "code",
   "source": [
    "## LOAD MODEL\n",
    "from langchain_ollama import ChatOllama\n",
    "llm = ChatOllama(model=\"llama3:latest\", temperature=0)\n",
    "\n",
    "## TEST MESSAGING\n",
    "from langchain_core.messages import HumanMessage\n",
    "llm.invoke([HumanMessage(content=\"Hi! I'm Bob\")])\n"
   ],
   "id": "21a3baf5dff3e454",
   "outputs": [
    {
     "data": {
      "text/plain": [
       "AIMessage(content=\"Hi Bob! It's nice to meet you. Is there something on your mind that you'd like to chat about, or are you just looking for some friendly conversation? I'm here to listen and help if I can.\", additional_kwargs={}, response_metadata={'model': 'llama3:latest', 'created_at': '2025-03-09T16:04:30.7290175Z', 'done': True, 'done_reason': 'stop', 'total_duration': 23177435300, 'load_duration': 10341838700, 'prompt_eval_count': 15, 'prompt_eval_duration': 2039000000, 'eval_count': 46, 'eval_duration': 10795000000, 'message': Message(role='assistant', content='', images=None, tool_calls=None)}, id='run-24543c37-4421-4427-8ab8-b13419412e83-0', usage_metadata={'input_tokens': 15, 'output_tokens': 46, 'total_tokens': 61})"
      ]
     },
     "execution_count": 27,
     "metadata": {},
     "output_type": "execute_result"
    }
   ],
   "execution_count": 27
  },
  {
   "metadata": {
    "ExecuteTime": {
     "end_time": "2025-03-09T16:04:30.744500Z",
     "start_time": "2025-03-09T16:04:30.740078Z"
    }
   },
   "cell_type": "code",
   "source": [
    "## SYSTEM PROMPT\n",
    "\n",
    "from langchain_core.prompts import ChatPromptTemplate, MessagesPlaceholder\n",
    "\n",
    "prompt_template = ChatPromptTemplate.from_messages(\n",
    "    [\n",
    "        (\n",
    "            \"system\",\n",
    "            \"You are a travel planner. Ask user about travel preferences and use this information to propose a travel plan.\",\n",
    "        ),\n",
    "        MessagesPlaceholder(variable_name=\"messages\"),\n",
    "    ]\n",
    ")"
   ],
   "id": "1e240cf12c95f3d7",
   "outputs": [],
   "execution_count": 28
  },
  {
   "metadata": {
    "ExecuteTime": {
     "end_time": "2025-03-09T16:04:30.762366Z",
     "start_time": "2025-03-09T16:04:30.757196Z"
    }
   },
   "cell_type": "code",
   "source": [
    "## MESSAGE TRIMMING - how much past messages are remembered\n",
    "\n",
    "from langchain_core.messages import AIMessage, SystemMessage, trim_messages\n",
    "\n",
    "trimmer = trim_messages(\n",
    "    max_tokens=65,\n",
    "    strategy=\"last\",\n",
    "    token_counter=llm,\n",
    "    include_system=True,\n",
    "    allow_partial=False,\n",
    "    start_on=\"human\",\n",
    ")\n"
   ],
   "id": "b7a4c9aad43800ba",
   "outputs": [],
   "execution_count": 29
  },
  {
   "metadata": {
    "ExecuteTime": {
     "end_time": "2025-03-09T16:04:30.779213Z",
     "start_time": "2025-03-09T16:04:30.772333Z"
    }
   },
   "cell_type": "code",
   "source": [
    "## PERSISTENCE\n",
    "from langgraph.checkpoint.memory import MemorySaver\n",
    "from langgraph.graph import START, MessagesState, StateGraph\n",
    "\n",
    "from typing import Sequence\n",
    "from langchain_core.messages import BaseMessage\n",
    "from langgraph.graph.message import add_messages\n",
    "from typing_extensions import Annotated, TypedDict\n",
    "\n",
    "# DEFINE CLASS INPUTS\n",
    "class State(TypedDict):\n",
    "    messages: Annotated[Sequence[BaseMessage], add_messages]\n",
    "    language: str\n",
    "\n",
    "# Define a new graph\n",
    "workflow = StateGraph(state_schema=State)\n",
    "\n",
    "\n",
    "# Define the function that calls the model\n",
    "def call_model(state: State):\n",
    "    trimmed_messages = trimmer.invoke(state[\"messages\"])\n",
    "    prompt = prompt_template.invoke(\n",
    "        {\"messages\": trimmed_messages, \"language\": state[\"language\"]}\n",
    "    )\n",
    "    response = llm.invoke(prompt)\n",
    "    return {\"messages\": [response]}\n",
    "\n",
    "\n",
    "# Define the (single) node in the graph\n",
    "workflow.add_edge(START, \"model\")\n",
    "workflow.add_node(\"model\", call_model)\n",
    "\n",
    "# Add memory\n",
    "memory = MemorySaver()\n",
    "app = workflow.compile(checkpointer=memory)\n",
    "\n",
    "\n",
    "\n"
   ],
   "id": "286d585fec6cb87",
   "outputs": [],
   "execution_count": 30
  },
  {
   "metadata": {
    "ExecuteTime": {
     "end_time": "2025-03-09T16:06:46.713775Z",
     "start_time": "2025-03-09T16:05:16.792442Z"
    }
   },
   "cell_type": "code",
   "source": [
    "### TEST EXAMPLE\n",
    "\n",
    "# Add config to tell different chats apart\n",
    "config = {\"configurable\": {\"thread_id\": \"abc123\"}}\n",
    "\n",
    "query = \"Can you recommend me a trip?\"\n",
    "language = \"English\"\n",
    "\n",
    "messages = [HumanMessage(content='I like beaches, adventure and sunbathing')]\n",
    "\n",
    "\n",
    "input_messages = messages + [HumanMessage(query)]\n",
    "output = app.invoke(\n",
    "    {\"messages\": input_messages, \"language\": language},\n",
    "    config,\n",
    ")\n",
    "output[\"messages\"][-1].pretty_print()  # output contains all messages in state\n",
    "\n",
    "# query = \"What is my name?\"\n",
    "#\n",
    "# input_messages = [HumanMessage(query)]\n",
    "# output = app.invoke({\"messages\": input_messages}, config)\n",
    "# output[\"messages\"][-1].pretty_print()"
   ],
   "id": "93b6c2d3d68265ca",
   "outputs": [
    {
     "name": "stdout",
     "output_type": "stream",
     "text": [
      "==================================\u001B[1m Ai Message \u001B[0m==================================\n",
      "\n",
      "Sounds like you're looking for a tropical getaway with a mix of relaxation and excitement!\n",
      "\n",
      "Considering your love for beaches, adventure, and sunbathing, I'd like to propose a trip to the beautiful island of Maui, Hawaii.\n",
      "\n",
      "Maui offers:\n",
      "\n",
      "1. Stunning beaches: You'll find world-class beaches like Ka'anapali Beach, Wailea Beach, and Hanauma Bay, perfect for swimming, snorkeling, or simply soaking up the sun.\n",
      "2. Adventure activities:\n",
      "\t* Snorkeling or scuba diving to explore Maui's vibrant marine life\n",
      "\t* Whale watching (seasonal) to spot humpback whales in their natural habitat\n",
      "\t* Ziplining or helicopter tours for a bird's-eye view of the island's lush landscapes\n",
      "3. Sunbathing and relaxation:\n",
      "\t* Unwind on the beach with a good book and a refreshing cocktail\n",
      "\t* Treat yourself to a rejuvenating spa day at one of Maui's many luxurious resorts\n",
      "\n",
      "To make the most of your trip, I recommend staying in Ka'anapali or Wailea for easy access to beaches and activities. You could also consider renting a car to explore the island's scenic Road to Hana, which takes you on a stunning drive along the coast.\n",
      "\n",
      "Here's a sample 7-day itinerary:\n",
      "\n",
      "Day 1-2: Arrival and beach relaxation in Ka'anapali\n",
      "Day 3: Snorkeling or scuba diving trip to Molokini Crater\n",
      "Day 4: Whale watching (seasonal) or ziplining adventure\n",
      "Day 5: Road to Hana drive and exploration of the island's scenic coastline\n",
      "Day 6-7: Relaxation and sunbathing in Wailea, with optional spa treatments\n",
      "\n",
      "What do you think? Is this trip appealing to you, or would you like me to suggest alternative destinations that fit your preferences?\n"
     ]
    }
   ],
   "execution_count": 31
  },
  {
   "metadata": {
    "ExecuteTime": {
     "end_time": "2025-03-09T15:04:27.952334Z",
     "start_time": "2025-03-09T15:04:27.946097Z"
    }
   },
   "cell_type": "code",
   "source": "",
   "id": "91476f40079c0686",
   "outputs": [],
   "execution_count": 33
  },
  {
   "metadata": {},
   "cell_type": "code",
   "outputs": [],
   "execution_count": null,
   "source": "",
   "id": "bbff542b6d150371"
  }
 ],
 "metadata": {
  "kernelspec": {
   "name": "python3",
   "language": "python",
   "display_name": "Python 3 (ipykernel)"
  }
 },
 "nbformat": 5,
 "nbformat_minor": 9
}
