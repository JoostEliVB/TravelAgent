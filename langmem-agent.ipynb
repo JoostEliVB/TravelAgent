{
 "cells": [
  {
   "metadata": {
    "ExecuteTime": {
     "end_time": "2025-03-10T09:44:31.366022Z",
     "start_time": "2025-03-10T09:44:30.164616Z"
    }
   },
   "cell_type": "code",
   "source": [
    "## LOAD MODEL\n",
    "from langchain_ollama import ChatOllama, OllamaEmbeddings\n",
    "\n",
    "llm = ChatOllama(model=\"llama3.2:latest\", temperature=6)\n",
    "\n",
    "# SETUP EMBEDDING\n",
    "import langchain_ollama.embeddings\n",
    "embed = OllamaEmbeddings(\n",
    "    model=\"llama3.2:latest\"\n",
    ")"
   ],
   "id": "a8464eefa036e63d",
   "outputs": [],
   "execution_count": 1
  },
  {
   "metadata": {
    "ExecuteTime": {
     "end_time": "2025-03-10T09:44:31.513339Z",
     "start_time": "2025-03-10T09:44:31.370301Z"
    }
   },
   "cell_type": "code",
   "source": [
    "# Import core components\n",
    "from langgraph.prebuilt import create_react_agent\n",
    "from langgraph.store.memory import InMemoryStore\n",
    "from langmem import create_manage_memory_tool, create_search_memory_tool\n",
    "\n",
    "\n",
    "# Set up storage - CHANGE TO POSTGRES\n",
    "store = InMemoryStore(\n",
    "    index={\n",
    "        \"dims\": 4096,\n",
    "        \"embed\": embed,\n",
    "    }\n",
    ")\n",
    "\n",
    "# Create an agent with memory capabilities\n",
    "agent = create_react_agent(\n",
    "    llm,\n",
    "    tools=[\n",
    "        # Memory tools use LangGraph's BaseStore for persistence (4)\n",
    "        create_manage_memory_tool(namespace=(\"memories\",)),\n",
    "        create_search_memory_tool(namespace=(\"memories\",)),\n",
    "    ],\n",
    "    store=store,\n",
    ")"
   ],
   "id": "2eb4764f812bea43",
   "outputs": [],
   "execution_count": 2
  },
  {
   "metadata": {
    "ExecuteTime": {
     "end_time": "2025-03-10T09:45:54.540539Z",
     "start_time": "2025-03-10T09:45:19.993890Z"
    }
   },
   "cell_type": "code",
   "source": [
    "# Store a new memory\n",
    "agent.invoke(\n",
    "    {\"messages\": [{\"role\": \"user\", \"content\": \"Remember that I prefer dark mode.\"}]}\n",
    ")\n",
    "\n",
    "# Retrieve the stored memory\n",
    "response = agent.invoke(\n",
    "    {\"messages\": [{\"role\": \"user\", \"content\": \"What are my lighting preferences?\"}]}\n",
    ")\n",
    "print(response[\"messages\"][-1].content)\n",
    "# Output: \"You've told me that you prefer dark mode.\""
   ],
   "id": "317058004cad01a9",
   "outputs": [
    {
     "name": "stdout",
     "output_type": "stream",
     "text": [
      "It looks like you didn't provide a specific question about lighting preferences. The tool response is likely from another conversation.\n",
      "\n",
      "However, I can try to help you determine your own lighting preference based on some common practices.\n",
      "\n",
      "To answer the original user's question, here are some possible ways to find one's lighting preference:\n",
      "\n",
      "1. Reflect on past experiences: Think about the lighting conditions in different environments or rooms where you've spent time feeling comfortable and productive. Which lighting setups made you feel more relaxed and alert?\n",
      "2. Assess your natural rhythms: Pay attention to how your body reacts to light and darkness at different times of the day. Do you feel more energetic and focused in bright light, or do you prefer softer, dimmer light during the evening?\n",
      "3. Consider your color temperature preference: Some people prefer cool white (blue-tinted) lighting, which can enhance focus and energy. Others prefer warm white (yellow-tinted) lighting, which can create a cozier atmosphere.\n",
      "\n",
      "By reflecting on these aspects, you may be able to identify your own lighting preference.\n",
      "\n",
      "If you need more specific help or would like to provide additional context, please let me know!\n"
     ]
    }
   ],
   "execution_count": 4
  },
  {
   "metadata": {},
   "cell_type": "code",
   "outputs": [],
   "execution_count": null,
   "source": "",
   "id": "f4bfcedd35a95198"
  }
 ],
 "metadata": {
  "kernelspec": {
   "name": "python3",
   "language": "python",
   "display_name": "Python 3 (ipykernel)"
  }
 },
 "nbformat": 5,
 "nbformat_minor": 9
}
